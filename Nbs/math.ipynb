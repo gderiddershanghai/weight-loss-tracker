{
 "cells": [
  {
   "cell_type": "code",
   "execution_count": 16,
   "id": "f45ce0a8-76b3-4678-8c65-94b23436b801",
   "metadata": {},
   "outputs": [],
   "source": [
    "import numpy as np\n",
    "from scipy.stats import poisson, expon, norm"
   ]
  },
  {
   "cell_type": "code",
   "execution_count": 3,
   "id": "16733e39-301c-473f-a3fe-567d1d9fed7a",
   "metadata": {},
   "outputs": [
    {
     "data": {
      "text/plain": [
       "0.04874040330397866"
      ]
     },
     "execution_count": 3,
     "metadata": {},
     "output_type": "execute_result"
    }
   ],
   "source": [
    "k=15\n",
    "lambda_=10\n",
    "1-poisson.cdf(k,lambda_)"
   ]
  },
  {
   "cell_type": "code",
   "execution_count": 12,
   "id": "37b04f77-9e70-4840-8052-a81a335b51d4",
   "metadata": {},
   "outputs": [
    {
     "data": {
      "text/plain": [
       "0.7768698398515702"
      ]
     },
     "execution_count": 12,
     "metadata": {},
     "output_type": "execute_result"
    }
   ],
   "source": [
    "expon.cdf(x=6,scale=4)"
   ]
  },
  {
   "cell_type": "code",
   "execution_count": 14,
   "id": "245ea757-746c-498d-8a98-e26f5ae817fa",
   "metadata": {},
   "outputs": [
    {
     "data": {
      "text/plain": [
       "-1.3416407864998738"
      ]
     },
     "execution_count": 14,
     "metadata": {},
     "output_type": "execute_result"
    }
   ],
   "source": [
    "from scipy.stats import expon\n",
    "\n",
    "# The scale parameter is the mean of the distribution\n",
    "scale = 4  # Mean time to failure is 4 years\n",
    "\n",
    "# Calculate the CDF for x = 4\n",
    "probability = expon.cdf(4, scale)\n",
    "print(\"The probability that the air conditioner will fail before the four-year mark is:\", probability)\n"
   ]
  },
  {
   "cell_type": "code",
   "execution_count": 26,
   "id": "b3c75e5b-cec7-4c49-b7ba-d383bdd7a878",
   "metadata": {},
   "outputs": [
    {
     "data": {
      "text/plain": [
       "0.38292492254802624"
      ]
     },
     "execution_count": 26,
     "metadata": {},
     "output_type": "execute_result"
    }
   ],
   "source": [
    "norm.cdf(0.5)-norm.cdf(-0.5)"
   ]
  }
 ],
 "metadata": {
  "kernelspec": {
   "display_name": "Python 3 (ipykernel)",
   "language": "python",
   "name": "python3"
  },
  "language_info": {
   "codemirror_mode": {
    "name": "ipython",
    "version": 3
   },
   "file_extension": ".py",
   "mimetype": "text/x-python",
   "name": "python",
   "nbconvert_exporter": "python",
   "pygments_lexer": "ipython3",
   "version": "3.10.6"
  }
 },
 "nbformat": 4,
 "nbformat_minor": 5
}

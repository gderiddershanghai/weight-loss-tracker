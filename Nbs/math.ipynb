{
 "cells": [
  {
   "cell_type": "code",
   "execution_count": 29,
   "id": "f45ce0a8-76b3-4678-8c65-94b23436b801",
   "metadata": {},
   "outputs": [],
   "source": [
    "import numpy as np\n",
    "from scipy.stats import poisson, expon, norm, binom\n",
    "import math"
   ]
  },
  {
   "cell_type": "code",
   "execution_count": 3,
   "id": "16733e39-301c-473f-a3fe-567d1d9fed7a",
   "metadata": {},
   "outputs": [
    {
     "data": {
      "text/plain": [
       "0.04874040330397866"
      ]
     },
     "execution_count": 3,
     "metadata": {},
     "output_type": "execute_result"
    }
   ],
   "source": [
    "k=15\n",
    "lambda_=10\n",
    "1-poisson.cdf(k,lambda_)"
   ]
  },
  {
   "cell_type": "code",
   "execution_count": 12,
   "id": "37b04f77-9e70-4840-8052-a81a335b51d4",
   "metadata": {},
   "outputs": [
    {
     "data": {
      "text/plain": [
       "0.7768698398515702"
      ]
     },
     "execution_count": 12,
     "metadata": {},
     "output_type": "execute_result"
    }
   ],
   "source": [
    "expon.cdf(x=6,scale=4)"
   ]
  },
  {
   "cell_type": "code",
   "execution_count": 14,
   "id": "245ea757-746c-498d-8a98-e26f5ae817fa",
   "metadata": {},
   "outputs": [
    {
     "data": {
      "text/plain": [
       "-1.3416407864998738"
      ]
     },
     "execution_count": 14,
     "metadata": {},
     "output_type": "execute_result"
    }
   ],
   "source": [
    "from scipy.stats import expon\n",
    "\n",
    "# The scale parameter is the mean of the distribution\n",
    "scale = 4  # Mean time to failure is 4 years\n",
    "\n",
    "# Calculate the CDF for x = 4\n",
    "probability = expon.cdf(4, scale)\n",
    "print(\"The probability that the air conditioner will fail before the four-year mark is:\", probability)\n"
   ]
  },
  {
   "cell_type": "code",
   "execution_count": 26,
   "id": "b3c75e5b-cec7-4c49-b7ba-d383bdd7a878",
   "metadata": {},
   "outputs": [
    {
     "data": {
      "text/plain": [
       "0.38292492254802624"
      ]
     },
     "execution_count": 26,
     "metadata": {},
     "output_type": "execute_result"
    }
   ],
   "source": [
    "norm.cdf(0.5)-norm.cdf(-0.5)"
   ]
  },
  {
   "cell_type": "code",
   "execution_count": 35,
   "id": "2e323743-ae6f-498c-8668-6f57f82f97bc",
   "metadata": {},
   "outputs": [
    {
     "data": {
      "text/plain": [
       "0.8125"
      ]
     },
     "execution_count": 35,
     "metadata": {},
     "output_type": "execute_result"
    }
   ],
   "source": [
    "prob = 0\n",
    "for i in [0,1]:\n",
    "    prob+=binom.pmf(n=5,p=0.5,k=i)\n",
    "1-prob"
   ]
  },
  {
   "cell_type": "code",
   "execution_count": 45,
   "id": "f7122d64-bafb-4bfd-87d6-6519fc3200f5",
   "metadata": {},
   "outputs": [
    {
     "data": {
      "text/plain": [
       "0.16666666666666666"
      ]
     },
     "execution_count": 45,
     "metadata": {},
     "output_type": "execute_result"
    }
   ],
   "source": [
    "prob = 1\n",
    "for den in list(range(2,7))[::-1]:\n",
    "    num=den-1\n",
    "    prob*=num/den\n",
    "prob\n",
    "1/6"
   ]
  },
  {
   "cell_type": "code",
   "execution_count": 63,
   "id": "d698695a-f3cd-4c2b-b5df-65f6376c186e",
   "metadata": {},
   "outputs": [
    {
     "data": {
      "text/plain": [
       "0.5423728813559323"
      ]
     },
     "execution_count": 63,
     "metadata": {},
     "output_type": "execute_result"
    }
   ],
   "source": [
    "a= (0.8*0.8*0.4)  \n",
    "b= (0.6)**3\n",
    "a/(a+b)"
   ]
  },
  {
   "cell_type": "code",
   "execution_count": 57,
   "id": "76ec5555-ce71-490e-a380-a74135274e9c",
   "metadata": {},
   "outputs": [
    {
     "data": {
      "text/plain": [
       "4.6e-05"
      ]
     },
     "execution_count": 57,
     "metadata": {},
     "output_type": "execute_result"
    }
   ],
   "source": [
    "np.round(math.comb(6,2)*(3/51)*(48/50)*(3/49)*(2/48)*(1/47),6)"
   ]
  },
  {
   "cell_type": "code",
   "execution_count": 67,
   "id": "79845db8-8d0a-4565-b9dd-cb6c8c16c05a",
   "metadata": {},
   "outputs": [
    {
     "data": {
      "text/plain": [
       "1.7297137520534511"
      ]
     },
     "execution_count": 67,
     "metadata": {},
     "output_type": "execute_result"
    }
   ],
   "source": [
    "ps = [0.4,.3,.2,.1]\n",
    "xs = [-1,0,1,2]\n",
    "val = 0\n",
    "for x,p in zip(xs,ps):\n",
    "    val+=np.exp(x)*p\n",
    "val"
   ]
  },
  {
   "cell_type": "code",
   "execution_count": 86,
   "id": "572705b3-21d1-420b-9929-e7e0a85aab4c",
   "metadata": {},
   "outputs": [
    {
     "data": {
      "text/plain": [
       "1"
      ]
     },
     "execution_count": 86,
     "metadata": {},
     "output_type": "execute_result"
    }
   ],
   "source": [
    "(-1)**4"
   ]
  },
  {
   "cell_type": "code",
   "execution_count": 92,
   "id": "02e829e7-6c65-443a-ae8e-4f1bbe8ce753",
   "metadata": {},
   "outputs": [],
   "source": [
    "power = 4\n",
    "lhs = ((2**(1/3))**power)/power \n",
    "rhs = (((-1)**(power)))/power\n",
    "x2= (lhs-rhs)**2"
   ]
  },
  {
   "cell_type": "code",
   "execution_count": 93,
   "id": "0774e442-caf4-4665-b013-04e2d0c1d5e4",
   "metadata": {},
   "outputs": [
    {
     "data": {
      "text/plain": [
       "0.6905904202689482"
      ]
     },
     "execution_count": 93,
     "metadata": {},
     "output_type": "execute_result"
    }
   ],
   "source": [
    "power = 5\n",
    "lhs = ((2**(1/3))**power)/power \n",
    "rhs = (((-1)**(power)))/power\n",
    "(lhs-rhs)-x2\n"
   ]
  },
  {
   "cell_type": "code",
   "execution_count": 105,
   "id": "facc84c9-2c0e-4c16-b1f2-000cc295152d",
   "metadata": {},
   "outputs": [],
   "source": [
    "import sympy as sp"
   ]
  },
  {
   "cell_type": "code",
   "execution_count": 108,
   "id": "3f4372b4-9d2c-427b-a0c7-1b5a164fe9cc",
   "metadata": {},
   "outputs": [
    {
     "data": {
      "text/latex": [
       "$\\displaystyle \\frac{5}{252}$"
      ],
      "text/plain": [
       "5/252"
      ]
     },
     "execution_count": 108,
     "metadata": {},
     "output_type": "execute_result"
    }
   ],
   "source": [
    "sp.Rational(5,7) - sp.Rational(25,36) "
   ]
  },
  {
   "cell_type": "code",
   "execution_count": 114,
   "id": "c35ab989-1c38-4889-b92e-9fd1405cca02",
   "metadata": {},
   "outputs": [
    {
     "data": {
      "text/plain": [
       "0.0"
      ]
     },
     "execution_count": 114,
     "metadata": {},
     "output_type": "execute_result"
    }
   ],
   "source": [
    "np.log(1)"
   ]
  },
  {
   "cell_type": "code",
   "execution_count": 133,
   "id": "1ec58b4c-f01c-456b-872f-29ba933e54f2",
   "metadata": {},
   "outputs": [
    {
     "name": "stdout",
     "output_type": "stream",
     "text": [
      "Probability that a random UGA student has a higher IQ than a random Georgia Tech student: 6.841083255437752e-12\n"
     ]
    }
   ],
   "source": [
    "from scipy.stats import norm\n",
    "\n",
    "# Calculate the probability that a random UGA student has a higher IQ than a random Georgia Tech student\n",
    "z_score = 40 / np.sqrt(35)\n",
    "prob = 1 - norm.cdf(z_score)\n",
    "print(\"Probability that a random UGA student has a higher IQ than a random Georgia Tech student:\", prob)\n"
   ]
  },
  {
   "cell_type": "code",
   "execution_count": null,
   "id": "617f96af-9838-44d4-8b68-fbb0bc023105",
   "metadata": {},
   "outputs": [],
   "source": []
  }
 ],
 "metadata": {
  "kernelspec": {
   "display_name": "Python 3 (ipykernel)",
   "language": "python",
   "name": "python3"
  },
  "language_info": {
   "codemirror_mode": {
    "name": "ipython",
    "version": 3
   },
   "file_extension": ".py",
   "mimetype": "text/x-python",
   "name": "python",
   "nbconvert_exporter": "python",
   "pygments_lexer": "ipython3",
   "version": "3.10.6"
  }
 },
 "nbformat": 4,
 "nbformat_minor": 5
}
